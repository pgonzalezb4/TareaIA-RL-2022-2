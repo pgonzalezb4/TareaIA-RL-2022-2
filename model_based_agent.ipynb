{
 "cells": [
  {
   "cell_type": "code",
   "execution_count": null,
   "metadata": {
    "collapsed": true
   },
   "outputs": [],
   "source": [
    "import os\n",
    "import tensorflow as tf\n",
    "import gym\n",
    "from keras.models import Sequential\n",
    "from keras.layers import Dense, Embedding, Reshape\n",
    "from keras.optimizers import Adam\n",
    "from rl.agents.dqn import DQNAgent\n",
    "from rl.policy import EpsGreedyQPolicy\n",
    "from rl.memory import SequentialMemory"
   ]
  },
  {
   "cell_type": "code",
   "execution_count": null,
   "outputs": [],
   "source": [
    "# Define the environment\n",
    "env = gym.make('Taxi-v3')"
   ],
   "metadata": {
    "collapsed": false
   }
  },
  {
   "cell_type": "code",
   "execution_count": null,
   "outputs": [],
   "source": [
    "action_size = env.action_space.n\n",
    "\n",
    "model = Sequential()\n",
    "model.add(Embedding(500, 10, input_length=1))\n",
    "model.add(Reshape((10,)))\n",
    "model.add(Dense(50, activation='relu'))\n",
    "model.add(Dense(50, activation='relu'))\n",
    "model.add(Dense(50, activation='relu'))\n",
    "model.add(Dense(action_size, activation='linear'))\n",
    "print(model.summary())"
   ],
   "metadata": {
    "collapsed": false
   }
  },
  {
   "cell_type": "code",
   "execution_count": null,
   "outputs": [],
   "source": [
    "memory = SequentialMemory(limit=50000, window_length=1)\n",
    "policy = EpsGreedyQPolicy()\n",
    "dqn = DQNAgent(model=model,\n",
    "               nb_actions=action_size,\n",
    "               memory=memory,\n",
    "               nb_steps_warmup=500,\n",
    "               target_model_update=8000, # 1e-2\n",
    "               policy=policy)\n",
    "dqn.compile(Adam(lr=1e-3), metrics=['mae'])\n",
    "dqn.fit(env, nb_steps=1000000,\n",
    "        visualize=False,\n",
    "        verbose=1,\n",
    "        nb_max_episode_steps=99,\n",
    "        log_interval=100000)"
   ],
   "metadata": {
    "collapsed": false
   }
  },
  {
   "cell_type": "code",
   "execution_count": null,
   "outputs": [],
   "source": [
    "import time\n",
    "import numpy as np\n",
    "from IPython.display import clear_output"
   ],
   "metadata": {
    "collapsed": false
   }
  },
  {
   "cell_type": "code",
   "execution_count": null,
   "outputs": [],
   "source": [
    "def _get_action_for_state(state):\n",
    "    predicted = model.predict_on_batch(tf.expand_dims(state, axis=0))\n",
    "    action = np.argmax(predicted[0])\n",
    "    return action"
   ],
   "metadata": {
    "collapsed": false
   }
  },
  {
   "cell_type": "code",
   "execution_count": null,
   "outputs": [],
   "source": [
    "sleep = 0.2\n",
    "max_steps = 20\n",
    "\n",
    "try:\n",
    "    actions_str = [\"South\", \"North\", \"East\", \"West\", \"Pickup\", \"Dropoff\"]\n",
    "\n",
    "    iteration = 0\n",
    "    state = env.reset()  # reset environment to a new, random state\n",
    "    env.render()\n",
    "    print(f\"Iter: {iteration} - Action: *** - Reward ***\")\n",
    "    time.sleep(sleep)\n",
    "    done = False\n",
    "\n",
    "    while not done:\n",
    "        action = _get_action_for_state(state)\n",
    "        iteration += 1\n",
    "        state, reward, done, info = env.step(action)\n",
    "        clear_output(wait=True)\n",
    "        env.render()\n",
    "        print(f\"Iter: {iteration} - Action: {action}({actions_str[action]}) - Reward {reward}\")\n",
    "        time.sleep(sleep)\n",
    "        if iteration == max_steps:\n",
    "            print(\"cannot converge :(\")\n",
    "            break\n",
    "except KeyboardInterrupt:\n",
    "    pass"
   ],
   "metadata": {
    "collapsed": false
   }
  },
  {
   "cell_type": "code",
   "execution_count": null,
   "outputs": [],
   "source": [],
   "metadata": {
    "collapsed": false
   }
  }
 ],
 "metadata": {
  "kernelspec": {
   "display_name": "Python 3",
   "language": "python",
   "name": "python3"
  },
  "language_info": {
   "codemirror_mode": {
    "name": "ipython",
    "version": 2
   },
   "file_extension": ".py",
   "mimetype": "text/x-python",
   "name": "python",
   "nbconvert_exporter": "python",
   "pygments_lexer": "ipython2",
   "version": "2.7.6"
  }
 },
 "nbformat": 4,
 "nbformat_minor": 0
}
